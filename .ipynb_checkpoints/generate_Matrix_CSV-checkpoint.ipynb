{
 "cells": [
  {
   "cell_type": "code",
   "execution_count": 1,
   "metadata": {},
   "outputs": [],
   "source": [
    "import pandas as pd\n",
    "import seaborn as sn\n",
    "import matplotlib.pyplot as plt\n",
    "import numpy as np"
   ]
  },
  {
   "cell_type": "code",
   "execution_count": 2,
   "metadata": {},
   "outputs": [],
   "source": [
    "matrix_data = pd.read_csv(\"ZtestRun\")"
   ]
  },
  {
   "cell_type": "code",
   "execution_count": 3,
   "metadata": {},
   "outputs": [
    {
     "name": "stdout",
     "output_type": "stream",
     "text": [
      "       0   1_11641_1_62_genomic.gbff_pp11.ffn  \\\n",
      "0      0   1_11641_1_62_genomic.gbff_pp11.ffn   \n",
      "1      0   1_11641_1_62_genomic.gbff_pp11.ffn   \n",
      "2      0   1_11641_1_62_genomic.gbff_pp11.ffn   \n",
      "3      0   1_11641_1_62_genomic.gbff_pp11.ffn   \n",
      "4      0   1_11641_1_62_genomic.gbff_pp11.ffn   \n",
      "...   ..                                  ...   \n",
      "36094  0     2_ASM2514v1_genomic.gbff_pp8.ffn   \n",
      "36095  0     2_ASM2514v1_genomic.gbff_pp8.ffn   \n",
      "36096  0     2_ASM2514v1_genomic.gbff_pp8.ffn   \n",
      "36097  0     2_ASM2514v1_genomic.gbff_pp8.ffn   \n",
      "36098  0     2_ASM2514v1_genomic.gbff_pp8.ffn   \n",
      "\n",
      "       1_11641_1_62_genomic.gbff_pp11.ffn.1  \n",
      "0         1_12625_5_54_genomic.gbff_pp2.ffn  \n",
      "1         1_12641_2_75_genomic.gbff_pp1.ffn  \n",
      "2        1_12641_2_75_genomic.gbff_pp21.ffn  \n",
      "3        1_12641_2_75_genomic.gbff_pp22.ffn  \n",
      "4        1_12673_2_15_genomic.gbff_pp10.ffn  \n",
      "...                                     ...  \n",
      "36094    2_ASM24879v2_genomic.gbff_pp17.ffn  \n",
      "36095     2_ASM24899v2_genomic.gbff_pp9.ffn  \n",
      "36096     2_ASM2514v1_genomic.gbff_pp18.ffn  \n",
      "36097     2_ASM2514v1_genomic.gbff_pp20.ffn  \n",
      "36098      2_ASM2514v1_genomic.gbff_pp8.ffn  \n",
      "\n",
      "[36099 rows x 3 columns]\n"
     ]
    }
   ],
   "source": [
    "print(matrix_data)"
   ]
  },
  {
   "cell_type": "code",
   "execution_count": 4,
   "metadata": {},
   "outputs": [],
   "source": [
    "matrix_data2 = pd.read_csv('ZtestRun', header=None, dtype={0: str}).set_index(0).squeeze().to_dict()"
   ]
  },
  {
   "cell_type": "code",
   "execution_count": 5,
   "metadata": {},
   "outputs": [
    {
     "name": "stdout",
     "output_type": "stream",
     "text": [
      "{1: {'0': ' 2_ASM2514v1_genomic.gbff_pp8.ffn', '10': ' 2_ASM21540v2_genomic.gbff_pp1.ffn', '4': ' 2_ASM2514v1_genomic.gbff_pp20.ffn', '5': ' 2_ASM2514v1_genomic.gbff_pp18.ffn', '9': ' 2_ASM2514v1_genomic.gbff_pp8.ffn', '7': ' 2_ASM2514v1_genomic.gbff_pp8.ffn', '8': ' 2_ASM2514v1_genomic.gbff_pp8.ffn', '11': ' 2_ASM24861v2_genomic.gbff_pp18.ffn', '58': ' 1_ASM16041v1_genomic.gbff_pp4.ffn', '73': ' 1_ASM900v1_genomic.gbff_pp21.ffn', '14': ' 1_Stap_aure_UCIM6050_V1_genomic.gbff_pp9.ffn', '6': ' 2_ASM2514v1_genomic.gbff_pp8.ffn', '12': ' 2_ASM24899v2_genomic.gbff_pp9.ffn', '16': ' 1_ASM900v1_genomic.gbff_pp13.ffn', '3': ' 2_ASM2514v1_genomic.gbff_pp8.ffn', '2': ' 2_ASM2514v1_genomic.gbff_pp20.ffn', '1': ' 2_ASM24899v2_genomic.gbff_pp9.ffn', '21': ' 2_ASM24861v2_genomic.gbff_pp18.ffn', '19': ' 2_ASM24861v2_genomic.gbff_pp18.ffn', '17': ' 1_Stap_aure_M0032_V1_genomic.gbff_pp18.ffn', '18': ' 1_Stap_aure_M0471_V1_genomic.gbff_pp17.ffn', '13': ' 1_ASM900v1_genomic.gbff_pp1.ffn', '15': ' 1_Stap_aure_F87602_V1_genomic.gbff_pp6.ffn', '26': ' 1_ASM900v1_genomic.gbff_pp8.ffn', '45': ' 1_Saureus301-188_genomic.gbff_pp14.ffn', '56': ' 1_ASM199648v1_genomic.gbff_pp2.ffn', '57': ' 1_ASM900v1_genomic.gbff_pp21.ffn', '44': ' 1_Stap_aure_M1022_V1_genomic.gbff_pp6.ffn', '22': ' 1_Stap_aure_W25814_V1_genomic.gbff_pp19.ffn', '38': ' 1_ASM900v1_genomic.gbff_pp7.ffn', '31': ' 1_Stap_aure_M1022_V1_genomic.gbff_pp6.ffn', '20': ' 2_ASM24861v2_genomic.gbff_pp18.ffn', '40': ' 1_Stap_aure_M0032_V1_genomic.gbff_pp18.ffn', '23': ' 1_Stap_aure_M0471_V1_genomic.gbff_pp17.ffn', '30': ' 2_ASM24861v2_genomic.gbff_pp18.ffn'}, 2: {'0': ' 2_ASM2514v1_genomic.gbff_pp8.ffn', '10': ' 1_ASM964v1_genomic.gbff_pp1.ffn', '4': ' 1_ASM17449v1_genomic.gbff_pp21.ffn', '5': ' 1_ASM958v1_genomic.gbff_pp19.ffn', '9': ' 1_Stap_aure_UCIM6050_V1_genomic.gbff_pp9.ffn', '7': ' 1_ASM1680v1_genomic.gbff_pp9.ffn', '8': ' 1_ASM17457v1_genomic.gbff_pp8.ffn', '11': ' 1_ASM900v1_genomic.gbff_pp18.ffn', '58': ' 1_12641_2_75_genomic.gbff_pp21.ffn', '73': ' 1_12641_2_75_genomic.gbff_pp21.ffn', '14': ' 1_ASM1150v1_genomic.gbff_pp11.ffn', '6': ' 1_ASM1680v1_genomic.gbff_pp8.ffn', '12': ' 1_ASM16041v1_genomic.gbff_pp9.ffn', '16': ' 1_ASM16041v1_genomic.gbff_pp2.ffn', '3': ' 2_ASM24851v2_genomic.gbff_pp9.ffn', '2': ' 1_LCT-SA67_genomic.gbff_pp21.ffn', '1': ' 1_Stap_aure_M0046_V1_genomic.gbff_pp8.ffn', '21': ' 1_Stap_aure_M1090_V1_genomic.gbff_pp19.ffn', '19': ' 1_ASM104629v1_genomic.gbff_pp17.ffn', '17': ' 1_ASM1150v1_genomic.gbff_pp18.ffn', '18': ' 1_ASM1150v1_genomic.gbff_pp18.ffn', '13': ' 1_ASM1150v1_genomic.gbff_pp2.ffn', '15': ' 1_ASM1342v1_genomic.gbff_pp6.ffn', '26': ' 1_ASM16041v1_genomic.gbff_pp13.ffn', '45': ' 1_ASM16041v1_genomic.gbff_pp14.ffn', '56': ' 1_ASM16041v1_genomic.gbff_pp2.ffn', '57': ' 1_ASM16041v1_genomic.gbff_pp4.ffn', '44': ' 1_ASM16041v1_genomic.gbff_pp6.ffn', '22': ' 1_Stap_aure_M0032_V1_genomic.gbff_pp18.ffn', '38': ' 1_ASM212170v1_genomic.gbff_pp5.ffn', '31': ' 1_ASM900v1_genomic.gbff_pp16.ffn', '20': ' 1_Stap_aure_W25814_V1_genomic.gbff_pp19.ffn', '40': ' 1_M3925_genomic.gbff_pp17.ffn', '23': ' 1_Stap_aure_M0032_V1_genomic.gbff_pp18.ffn', '30': ' 1_Stap_aure_M0032_V1_genomic.gbff_pp18.ffn'}}\n"
     ]
    }
   ],
   "source": [
    "print(matrix_data2)"
   ]
  },
  {
   "cell_type": "code",
   "execution_count": null,
   "metadata": {},
   "outputs": [],
   "source": [
    "for p_id, p_info in matrix_data2.items():\n",
    "    print(\"\\nPerson ID:\", p_id)\n",
    "    \n",
    "    for key in p_info:\n",
    "        print(key + ':', p_info[key])"
   ]
  }
 ],
 "metadata": {
  "kernelspec": {
   "display_name": "Python 3",
   "language": "python",
   "name": "python3"
  },
  "language_info": {
   "codemirror_mode": {
    "name": "ipython",
    "version": 3
   },
   "file_extension": ".py",
   "mimetype": "text/x-python",
   "name": "python",
   "nbconvert_exporter": "python",
   "pygments_lexer": "ipython3",
   "version": "3.8.3"
  }
 },
 "nbformat": 4,
 "nbformat_minor": 4
}
